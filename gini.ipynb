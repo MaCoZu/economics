{
 "cells": [
  {
   "cell_type": "code",
   "execution_count": 1,
   "metadata": {},
   "outputs": [],
   "source": [
    "import pandas as pd\n",
    "import matplotlib.pyplot as plt"
   ]
  },
  {
   "cell_type": "code",
   "execution_count": 125,
   "metadata": {},
   "outputs": [],
   "source": [
    "df = pd.read_csv('../data/gini_2023.csv')\n",
    "df = df.drop([\"Indicator Name\", \"Indicator Code\"], axis=1)\n",
    "df = pd.melt(df, id_vars=[\"Country Name\", \"Country Code\"])\n",
    "df = df.rename(columns={\"variable\": \"Year\", \"value\": \"Gini Index\"})\n",
    "df = df.dropna()"
   ]
  },
  {
   "cell_type": "code",
   "execution_count": 146,
   "metadata": {},
   "outputs": [
    {
     "data": {
      "text/html": [
       "<div>\n",
       "<style scoped>\n",
       "    .dataframe tbody tr th:only-of-type {\n",
       "        vertical-align: middle;\n",
       "    }\n",
       "\n",
       "    .dataframe tbody tr th {\n",
       "        vertical-align: top;\n",
       "    }\n",
       "\n",
       "    .dataframe thead th {\n",
       "        text-align: right;\n",
       "    }\n",
       "</style>\n",
       "<table border=\"1\" class=\"dataframe\">\n",
       "  <thead>\n",
       "    <tr style=\"text-align: right;\">\n",
       "      <th></th>\n",
       "      <th>Country Name</th>\n",
       "      <th>Country Code</th>\n",
       "      <th>Year</th>\n",
       "      <th>Gini Index</th>\n",
       "    </tr>\n",
       "  </thead>\n",
       "  <tbody>\n",
       "    <tr>\n",
       "      <th>15965</th>\n",
       "      <td>Albania</td>\n",
       "      <td>ALB</td>\n",
       "      <td>2020</td>\n",
       "      <td>29.400000</td>\n",
       "    </tr>\n",
       "    <tr>\n",
       "      <th>15699</th>\n",
       "      <td>Albania</td>\n",
       "      <td>ALB</td>\n",
       "      <td>2019</td>\n",
       "      <td>30.100000</td>\n",
       "    </tr>\n",
       "    <tr>\n",
       "      <th>15433</th>\n",
       "      <td>Albania</td>\n",
       "      <td>ALB</td>\n",
       "      <td>2018</td>\n",
       "      <td>30.100000</td>\n",
       "    </tr>\n",
       "    <tr>\n",
       "      <th>15167</th>\n",
       "      <td>Albania</td>\n",
       "      <td>ALB</td>\n",
       "      <td>2017</td>\n",
       "      <td>33.099998</td>\n",
       "    </tr>\n",
       "    <tr>\n",
       "      <th>14901</th>\n",
       "      <td>Albania</td>\n",
       "      <td>ALB</td>\n",
       "      <td>2016</td>\n",
       "      <td>33.700001</td>\n",
       "    </tr>\n",
       "  </tbody>\n",
       "</table>\n",
       "</div>"
      ],
      "text/plain": [
       "      Country Name Country Code  Year  Gini Index\n",
       "15965      Albania          ALB  2020   29.400000\n",
       "15699      Albania          ALB  2019   30.100000\n",
       "15433      Albania          ALB  2018   30.100000\n",
       "15167      Albania          ALB  2017   33.099998\n",
       "14901      Albania          ALB  2016   33.700001"
      ]
     },
     "execution_count": 146,
     "metadata": {},
     "output_type": "execute_result"
    }
   ],
   "source": [
    "df['Year'] = pd.to_numeric(df['Year'], errors='coerce').astype('Int32')\n",
    "df['Gini Index'] = pd.to_numeric(df['Gini Index'], errors='coerce').astype('float32')\n",
    "df.sort_values(['Country Name', 'Year'], ascending=[True, False], inplace=True)\n",
    "df = df[df['Year'] >= 2000]\n",
    "df.head()"
   ]
  },
  {
   "cell_type": "code",
   "execution_count": 147,
   "metadata": {},
   "outputs": [
    {
     "data": {
      "text/html": [
       "<div>\n",
       "<style scoped>\n",
       "    .dataframe tbody tr th:only-of-type {\n",
       "        vertical-align: middle;\n",
       "    }\n",
       "\n",
       "    .dataframe tbody tr th {\n",
       "        vertical-align: top;\n",
       "    }\n",
       "\n",
       "    .dataframe thead th {\n",
       "        text-align: right;\n",
       "    }\n",
       "</style>\n",
       "<table border=\"1\" class=\"dataframe\">\n",
       "  <thead>\n",
       "    <tr style=\"text-align: right;\">\n",
       "      <th></th>\n",
       "      <th>Country Name</th>\n",
       "      <th>Country Code</th>\n",
       "      <th>Year</th>\n",
       "      <th>Gini Index</th>\n",
       "    </tr>\n",
       "  </thead>\n",
       "  <tbody>\n",
       "    <tr>\n",
       "      <th>0</th>\n",
       "      <td>Albania</td>\n",
       "      <td>ALB</td>\n",
       "      <td>2020</td>\n",
       "      <td>29.400000</td>\n",
       "    </tr>\n",
       "    <tr>\n",
       "      <th>1</th>\n",
       "      <td>Algeria</td>\n",
       "      <td>DZA</td>\n",
       "      <td>2011</td>\n",
       "      <td>27.600000</td>\n",
       "    </tr>\n",
       "    <tr>\n",
       "      <th>2</th>\n",
       "      <td>Angola</td>\n",
       "      <td>AGO</td>\n",
       "      <td>2018</td>\n",
       "      <td>51.299999</td>\n",
       "    </tr>\n",
       "    <tr>\n",
       "      <th>3</th>\n",
       "      <td>Argentina</td>\n",
       "      <td>ARG</td>\n",
       "      <td>2021</td>\n",
       "      <td>42.000000</td>\n",
       "    </tr>\n",
       "    <tr>\n",
       "      <th>4</th>\n",
       "      <td>Armenia</td>\n",
       "      <td>ARM</td>\n",
       "      <td>2021</td>\n",
       "      <td>27.900000</td>\n",
       "    </tr>\n",
       "    <tr>\n",
       "      <th>...</th>\n",
       "      <td>...</td>\n",
       "      <td>...</td>\n",
       "      <td>...</td>\n",
       "      <td>...</td>\n",
       "    </tr>\n",
       "    <tr>\n",
       "      <th>151</th>\n",
       "      <td>Viet Nam</td>\n",
       "      <td>VNM</td>\n",
       "      <td>2020</td>\n",
       "      <td>36.799999</td>\n",
       "    </tr>\n",
       "    <tr>\n",
       "      <th>152</th>\n",
       "      <td>West Bank and Gaza</td>\n",
       "      <td>PSE</td>\n",
       "      <td>2016</td>\n",
       "      <td>33.700001</td>\n",
       "    </tr>\n",
       "    <tr>\n",
       "      <th>153</th>\n",
       "      <td>Yemen, Rep.</td>\n",
       "      <td>YEM</td>\n",
       "      <td>2014</td>\n",
       "      <td>36.700001</td>\n",
       "    </tr>\n",
       "    <tr>\n",
       "      <th>154</th>\n",
       "      <td>Zambia</td>\n",
       "      <td>ZMB</td>\n",
       "      <td>2015</td>\n",
       "      <td>55.900002</td>\n",
       "    </tr>\n",
       "    <tr>\n",
       "      <th>155</th>\n",
       "      <td>Zimbabwe</td>\n",
       "      <td>ZWE</td>\n",
       "      <td>2019</td>\n",
       "      <td>50.299999</td>\n",
       "    </tr>\n",
       "  </tbody>\n",
       "</table>\n",
       "<p>156 rows × 4 columns</p>\n",
       "</div>"
      ],
      "text/plain": [
       "           Country Name Country Code  Year  Gini Index\n",
       "0               Albania          ALB  2020   29.400000\n",
       "1               Algeria          DZA  2011   27.600000\n",
       "2                Angola          AGO  2018   51.299999\n",
       "3             Argentina          ARG  2021   42.000000\n",
       "4               Armenia          ARM  2021   27.900000\n",
       "..                  ...          ...   ...         ...\n",
       "151            Viet Nam          VNM  2020   36.799999\n",
       "152  West Bank and Gaza          PSE  2016   33.700001\n",
       "153         Yemen, Rep.          YEM  2014   36.700001\n",
       "154              Zambia          ZMB  2015   55.900002\n",
       "155            Zimbabwe          ZWE  2019   50.299999\n",
       "\n",
       "[156 rows x 4 columns]"
      ]
     },
     "execution_count": 147,
     "metadata": {},
     "output_type": "execute_result"
    }
   ],
   "source": [
    "# Step 4: Group by 'Country Name' and get the first row for each group\n",
    "latest_df = df.groupby('Country Name').first().reset_index()\n",
    "latest_df"
   ]
  },
  {
   "cell_type": "code",
   "execution_count": 148,
   "metadata": {},
   "outputs": [
    {
     "data": {
      "application/vnd.plotly.v1+json": {
       "config": {
        "plotlyServerURL": "https://plot.ly"
       },
       "data": [
        {
         "coloraxis": "coloraxis",
         "customdata": [
          [
           29.399999618530273,
           2020
          ],
          [
           27.600000381469727,
           2011
          ],
          [
           51.29999923706055,
           2018
          ],
          [
           42,
           2021
          ],
          [
           27.899999618530273,
           2021
          ],
          [
           34.29999923706055,
           2018
          ],
          [
           29.799999237060547,
           2020
          ],
          [
           31.799999237060547,
           2022
          ],
          [
           24.399999618530273,
           2020
          ],
          [
           26,
           2020
          ],
          [
           37.900001525878906,
           2018
          ],
          [
           28.5,
           2022
          ],
          [
           40.900001525878906,
           2021
          ],
          [
           33,
           2011
          ],
          [
           53.29999923706055,
           2015
          ],
          [
           52.900001525878906,
           2021
          ],
          [
           40.5,
           2020
          ],
          [
           43,
           2018
          ],
          [
           38.599998474121094,
           2013
          ],
          [
           42.400001525878906,
           2015
          ],
          [
           46.599998474121094,
           2014
          ],
          [
           31.700000762939453,
           2019
          ],
          [
           43,
           2021
          ],
          [
           37.5,
           2018
          ],
          [
           44.900001525878906,
           2020
          ],
          [
           37.099998474121094,
           2020
          ],
          [
           51.5,
           2021
          ],
          [
           45.29999923706055,
           2014
          ],
          [
           42.099998474121094,
           2012
          ],
          [
           48.900001525878906,
           2011
          ],
          [
           47.20000076293945,
           2022
          ],
          [
           37.20000076293945,
           2018
          ],
          [
           29.5,
           2020
          ],
          [
           31.700000762939453,
           2020
          ],
          [
           26.200000762939453,
           2020
          ],
          [
           27.5,
           2020
          ],
          [
           41.599998474121094,
           2017
          ],
          [
           38.5,
           2021
          ],
          [
           45.5,
           2022
          ],
          [
           31.899999618530273,
           2019
          ],
          [
           38.79999923706055,
           2022
          ],
          [
           30.700000762939453,
           2020
          ],
          [
           54.599998474121094,
           2016
          ],
          [
           35,
           2015
          ],
          [
           30.700000762939453,
           2019
          ],
          [
           27.100000381469727,
           2020
          ],
          [
           30.700000762939453,
           2020
          ],
          [
           38,
           2017
          ],
          [
           38.79999923706055,
           2020
          ],
          [
           34.20000076293945,
           2021
          ],
          [
           31.700000762939453,
           2019
          ],
          [
           43.5,
           2016
          ],
          [
           33.599998474121094,
           2020
          ],
          [
           48.29999923706055,
           2014
          ],
          [
           29.600000381469727,
           2018
          ],
          [
           34.79999923706055,
           2018
          ],
          [
           41.099998474121094,
           2012
          ],
          [
           48.20000076293945,
           2019
          ],
          [
           29.700000762939453,
           2020
          ],
          [
           26.100000381469727,
           2017
          ],
          [
           34.20000076293945,
           2021
          ],
          [
           37.900001525878906,
           2022
          ],
          [
           40.900001525878906,
           2019
          ],
          [
           29.5,
           2012
          ],
          [
           29.200000762939453,
           2020
          ],
          [
           38.599998474121094,
           2018
          ],
          [
           35.20000076293945,
           2020
          ],
          [
           32.900001525878906,
           2013
          ],
          [
           33.70000076293945,
           2010
          ],
          [
           27.799999237060547,
           2018
          ],
          [
           38.70000076293945,
           2021
          ],
          [
           27.799999237060547,
           2019
          ],
          [
           31.399999618530273,
           2016
          ],
          [
           29,
           2017
          ],
          [
           29,
           2020
          ],
          [
           38.79999923706055,
           2018
          ],
          [
           35.70000076293945,
           2020
          ],
          [
           31.799999237060547,
           2011
          ],
          [
           44.900001525878906,
           2017
          ],
          [
           35.29999923706055,
           2016
          ],
          [
           36,
           2020
          ],
          [
           33.400001525878906,
           2020
          ],
          [
           42.599998474121094,
           2012
          ],
          [
           38.5,
           2019
          ],
          [
           41.20000076293945,
           2018
          ],
          [
           29.299999237060547,
           2019
          ],
          [
           36,
           2018
          ],
          [
           31.399999618530273,
           2020
          ],
          [
           35.5,
           2019
          ],
          [
           32.599998474121094,
           2014
          ],
          [
           36.79999923706055,
           2017
          ],
          [
           45.400001525878906,
           2020
          ],
          [
           40.099998474121094,
           2013
          ],
          [
           25.700000762939453,
           2021
          ],
          [
           32.70000076293945,
           2018
          ],
          [
           36.79999923706055,
           2018
          ],
          [
           39.5,
           2013
          ],
          [
           50.5,
           2019
          ],
          [
           30.700000762939453,
           2017
          ],
          [
           59.099998474121094,
           2015
          ],
          [
           32.400001525878906,
           2012
          ],
          [
           32.79999923706055,
           2010
          ],
          [
           26,
           2020
          ],
          [
           46.20000076293945,
           2014
          ],
          [
           37.29999923706055,
           2018
          ],
          [
           35.099998474121094,
           2018
          ],
          [
           33.5,
           2019
          ],
          [
           27.700000762939453,
           2019
          ],
          [
           29.600000381469727,
           2018
          ],
          [
           50.900001525878906,
           2021
          ],
          [
           45.099998474121094,
           2022
          ],
          [
           40.20000076293945,
           2021
          ],
          [
           40.70000076293945,
           2021
          ],
          [
           28.799999237060547,
           2019
          ],
          [
           34.70000076293945,
           2020
          ],
          [
           34.599998474121094,
           2020
          ],
          [
           36,
           2020
          ],
          [
           43.70000076293945,
           2016
          ],
          [
           38.70000076293945,
           2013
          ],
          [
           40.70000076293945,
           2017
          ],
          [
           38.29999923706055,
           2018
          ],
          [
           35,
           2020
          ],
          [
           32.099998474121094,
           2018
          ],
          [
           35.70000076293945,
           2018
          ],
          [
           23.200000762939453,
           2019
          ],
          [
           24,
           2020
          ],
          [
           37.099998474121094,
           2012
          ],
          [
           63,
           2014
          ],
          [
           44.099998474121094,
           2016
          ],
          [
           34.900001525878906,
           2020
          ],
          [
           37.70000076293945,
           2019
          ],
          [
           51.20000076293945,
           2016
          ],
          [
           34.20000076293945,
           2014
          ],
          [
           28.899999618530273,
           2020
          ],
          [
           33.099998474121094,
           2018
          ],
          [
           34,
           2015
          ],
          [
           40.5,
           2018
          ],
          [
           35.099998474121094,
           2021
          ],
          [
           28.700000762939453,
           2014
          ],
          [
           42.5,
           2018
          ],
          [
           33.5,
           2015
          ],
          [
           32.79999923706055,
           2015
          ],
          [
           41.900001525878906,
           2019
          ],
          [
           39.099998474121094,
           2010
          ],
          [
           42.70000076293945,
           2019
          ],
          [
           25.600000381469727,
           2020
          ],
          [
           26,
           2018
          ],
          [
           32.599998474121094,
           2020
          ],
          [
           39.79999923706055,
           2021
          ],
          [
           40.79999923706055,
           2021
          ],
          [
           32.29999923706055,
           2019
          ],
          [
           36.79999923706055,
           2020
          ],
          [
           33.70000076293945,
           2016
          ],
          [
           36.70000076293945,
           2014
          ],
          [
           55.900001525878906,
           2015
          ],
          [
           50.29999923706055,
           2019
          ]
         ],
         "geo": "geo",
         "hovertemplate": "<b>%{hovertext}</b><br>Gini Index: %{customdata[0]:.2f}<br>Year: %{customdata[1]}",
         "hovertext": [
          "Albania",
          "Algeria",
          "Angola",
          "Argentina",
          "Armenia",
          "Australia",
          "Austria",
          "Bangladesh",
          "Belarus",
          "Belgium",
          "Benin",
          "Bhutan",
          "Bolivia",
          "Bosnia and Herzegovina",
          "Botswana",
          "Brazil",
          "Bulgaria",
          "Burkina Faso",
          "Burundi",
          "Cabo Verde",
          "Cameroon",
          "Canada",
          "Central African Republic",
          "Chad",
          "Chile",
          "China",
          "Colombia",
          "Comoros",
          "Congo, Dem. Rep.",
          "Congo, Rep.",
          "Costa Rica",
          "Cote d'Ivoire",
          "Croatia",
          "Cyprus",
          "Czechia",
          "Denmark",
          "Djibouti",
          "Dominican Republic",
          "Ecuador",
          "Egypt, Arab Rep.",
          "El Salvador",
          "Estonia",
          "Eswatini",
          "Ethiopia",
          "Fiji",
          "Finland",
          "France",
          "Gabon",
          "Gambia, The",
          "Georgia",
          "Germany",
          "Ghana",
          "Greece",
          "Guatemala",
          "Guinea",
          "Guinea-Bissau",
          "Haiti",
          "Honduras",
          "Hungary",
          "Iceland",
          "India",
          "Indonesia",
          "Iran, Islamic Rep.",
          "Iraq",
          "Ireland",
          "Israel",
          "Italy",
          "Japan",
          "Jordan",
          "Kazakhstan",
          "Kenya",
          "Kiribati",
          "Korea, Rep.",
          "Kosovo",
          "Kyrgyz Republic",
          "Lao PDR",
          "Latvia",
          "Lebanon",
          "Lesotho",
          "Liberia",
          "Lithuania",
          "Luxembourg",
          "Madagascar",
          "Malawi",
          "Malaysia",
          "Maldives",
          "Mali",
          "Malta",
          "Marshall Islands",
          "Mauritania",
          "Mauritius",
          "Mexico",
          "Micronesia, Fed. Sts.",
          "Moldova",
          "Mongolia",
          "Montenegro",
          "Morocco",
          "Mozambique",
          "Myanmar",
          "Namibia",
          "Nauru",
          "Nepal",
          "Netherlands",
          "Nicaragua",
          "Niger",
          "Nigeria",
          "North Macedonia",
          "Norway",
          "Pakistan",
          "Panama",
          "Paraguay",
          "Peru",
          "Philippines",
          "Poland",
          "Portugal",
          "Romania",
          "Russian Federation",
          "Rwanda",
          "Samoa",
          "Sao Tome and Principe",
          "Senegal",
          "Serbia",
          "Seychelles",
          "Sierra Leone",
          "Slovak Republic",
          "Slovenia",
          "Solomon Islands",
          "South Africa",
          "South Sudan",
          "Spain",
          "Sri Lanka",
          "St. Lucia",
          "Sudan",
          "Sweden",
          "Switzerland",
          "Tajikistan",
          "Tanzania",
          "Thailand",
          "Timor-Leste",
          "Togo",
          "Tonga",
          "Tunisia",
          "Turkiye",
          "Tuvalu",
          "Uganda",
          "Ukraine",
          "United Arab Emirates",
          "United Kingdom",
          "United States",
          "Uruguay",
          "Vanuatu",
          "Viet Nam",
          "West Bank and Gaza",
          "Yemen, Rep.",
          "Zambia",
          "Zimbabwe"
         ],
         "locations": [
          "ALB",
          "DZA",
          "AGO",
          "ARG",
          "ARM",
          "AUS",
          "AUT",
          "BGD",
          "BLR",
          "BEL",
          "BEN",
          "BTN",
          "BOL",
          "BIH",
          "BWA",
          "BRA",
          "BGR",
          "BFA",
          "BDI",
          "CPV",
          "CMR",
          "CAN",
          "CAF",
          "TCD",
          "CHL",
          "CHN",
          "COL",
          "COM",
          "COD",
          "COG",
          "CRI",
          "CIV",
          "HRV",
          "CYP",
          "CZE",
          "DNK",
          "DJI",
          "DOM",
          "ECU",
          "EGY",
          "SLV",
          "EST",
          "SWZ",
          "ETH",
          "FJI",
          "FIN",
          "FRA",
          "GAB",
          "GMB",
          "GEO",
          "DEU",
          "GHA",
          "GRC",
          "GTM",
          "GIN",
          "GNB",
          "HTI",
          "HND",
          "HUN",
          "ISL",
          "IND",
          "IDN",
          "IRN",
          "IRQ",
          "IRL",
          "ISR",
          "ITA",
          "JPN",
          "JOR",
          "KAZ",
          "KEN",
          "KIR",
          "KOR",
          "XKX",
          "KGZ",
          "LAO",
          "LVA",
          "LBN",
          "LSO",
          "LBR",
          "LTU",
          "LUX",
          "MDG",
          "MWI",
          "MYS",
          "MDV",
          "MLI",
          "MLT",
          "MHL",
          "MRT",
          "MUS",
          "MEX",
          "FSM",
          "MDA",
          "MNG",
          "MNE",
          "MAR",
          "MOZ",
          "MMR",
          "NAM",
          "NRU",
          "NPL",
          "NLD",
          "NIC",
          "NER",
          "NGA",
          "MKD",
          "NOR",
          "PAK",
          "PAN",
          "PRY",
          "PER",
          "PHL",
          "POL",
          "PRT",
          "ROU",
          "RUS",
          "RWA",
          "WSM",
          "STP",
          "SEN",
          "SRB",
          "SYC",
          "SLE",
          "SVK",
          "SVN",
          "SLB",
          "ZAF",
          "SSD",
          "ESP",
          "LKA",
          "LCA",
          "SDN",
          "SWE",
          "CHE",
          "TJK",
          "TZA",
          "THA",
          "TLS",
          "TGO",
          "TON",
          "TUN",
          "TUR",
          "TUV",
          "UGA",
          "UKR",
          "ARE",
          "GBR",
          "USA",
          "URY",
          "VUT",
          "VNM",
          "PSE",
          "YEM",
          "ZMB",
          "ZWE"
         ],
         "name": "",
         "type": "choropleth",
         "z": [
          29.399999618530273,
          27.600000381469727,
          51.29999923706055,
          42,
          27.899999618530273,
          34.29999923706055,
          29.799999237060547,
          31.799999237060547,
          24.399999618530273,
          26,
          37.900001525878906,
          28.5,
          40.900001525878906,
          33,
          53.29999923706055,
          52.900001525878906,
          40.5,
          43,
          38.599998474121094,
          42.400001525878906,
          46.599998474121094,
          31.700000762939453,
          43,
          37.5,
          44.900001525878906,
          37.099998474121094,
          51.5,
          45.29999923706055,
          42.099998474121094,
          48.900001525878906,
          47.20000076293945,
          37.20000076293945,
          29.5,
          31.700000762939453,
          26.200000762939453,
          27.5,
          41.599998474121094,
          38.5,
          45.5,
          31.899999618530273,
          38.79999923706055,
          30.700000762939453,
          54.599998474121094,
          35,
          30.700000762939453,
          27.100000381469727,
          30.700000762939453,
          38,
          38.79999923706055,
          34.20000076293945,
          31.700000762939453,
          43.5,
          33.599998474121094,
          48.29999923706055,
          29.600000381469727,
          34.79999923706055,
          41.099998474121094,
          48.20000076293945,
          29.700000762939453,
          26.100000381469727,
          34.20000076293945,
          37.900001525878906,
          40.900001525878906,
          29.5,
          29.200000762939453,
          38.599998474121094,
          35.20000076293945,
          32.900001525878906,
          33.70000076293945,
          27.799999237060547,
          38.70000076293945,
          27.799999237060547,
          31.399999618530273,
          29,
          29,
          38.79999923706055,
          35.70000076293945,
          31.799999237060547,
          44.900001525878906,
          35.29999923706055,
          36,
          33.400001525878906,
          42.599998474121094,
          38.5,
          41.20000076293945,
          29.299999237060547,
          36,
          31.399999618530273,
          35.5,
          32.599998474121094,
          36.79999923706055,
          45.400001525878906,
          40.099998474121094,
          25.700000762939453,
          32.70000076293945,
          36.79999923706055,
          39.5,
          50.5,
          30.700000762939453,
          59.099998474121094,
          32.400001525878906,
          32.79999923706055,
          26,
          46.20000076293945,
          37.29999923706055,
          35.099998474121094,
          33.5,
          27.700000762939453,
          29.600000381469727,
          50.900001525878906,
          45.099998474121094,
          40.20000076293945,
          40.70000076293945,
          28.799999237060547,
          34.70000076293945,
          34.599998474121094,
          36,
          43.70000076293945,
          38.70000076293945,
          40.70000076293945,
          38.29999923706055,
          35,
          32.099998474121094,
          35.70000076293945,
          23.200000762939453,
          24,
          37.099998474121094,
          63,
          44.099998474121094,
          34.900001525878906,
          37.70000076293945,
          51.20000076293945,
          34.20000076293945,
          28.899999618530273,
          33.099998474121094,
          34,
          40.5,
          35.099998474121094,
          28.700000762939453,
          42.5,
          33.5,
          32.79999923706055,
          41.900001525878906,
          39.099998474121094,
          42.70000076293945,
          25.600000381469727,
          26,
          32.599998474121094,
          39.79999923706055,
          40.79999923706055,
          32.29999923706055,
          36.79999923706055,
          33.70000076293945,
          36.70000076293945,
          55.900001525878906,
          50.29999923706055
         ]
        }
       ],
       "layout": {
        "coloraxis": {
         "colorbar": {
          "title": {
           "text": "Gini Index"
          }
         },
         "colorscale": [
          [
           0,
           "#fcffa4"
          ],
          [
           0.1111111111111111,
           "#f7d13d"
          ],
          [
           0.2222222222222222,
           "#fb9b06"
          ],
          [
           0.3333333333333333,
           "#ed6925"
          ],
          [
           0.4444444444444444,
           "#cf4446"
          ],
          [
           0.5555555555555556,
           "#a52c60"
          ],
          [
           0.6666666666666666,
           "#781c6d"
          ],
          [
           0.7777777777777778,
           "#4a0c6b"
          ],
          [
           0.8888888888888888,
           "#1b0c41"
          ],
          [
           1,
           "#000004"
          ]
         ]
        },
        "geo": {
         "center": {},
         "domain": {
          "x": [
           0,
           1
          ],
          "y": [
           0,
           1
          ]
         },
         "projection": {
          "type": "natural earth"
         }
        },
        "legend": {
         "tracegroupgap": 0
        },
        "template": {
         "data": {
          "bar": [
           {
            "error_x": {
             "color": "#2a3f5f"
            },
            "error_y": {
             "color": "#2a3f5f"
            },
            "marker": {
             "line": {
              "color": "#E5ECF6",
              "width": 0.5
             },
             "pattern": {
              "fillmode": "overlay",
              "size": 10,
              "solidity": 0.2
             }
            },
            "type": "bar"
           }
          ],
          "barpolar": [
           {
            "marker": {
             "line": {
              "color": "#E5ECF6",
              "width": 0.5
             },
             "pattern": {
              "fillmode": "overlay",
              "size": 10,
              "solidity": 0.2
             }
            },
            "type": "barpolar"
           }
          ],
          "carpet": [
           {
            "aaxis": {
             "endlinecolor": "#2a3f5f",
             "gridcolor": "white",
             "linecolor": "white",
             "minorgridcolor": "white",
             "startlinecolor": "#2a3f5f"
            },
            "baxis": {
             "endlinecolor": "#2a3f5f",
             "gridcolor": "white",
             "linecolor": "white",
             "minorgridcolor": "white",
             "startlinecolor": "#2a3f5f"
            },
            "type": "carpet"
           }
          ],
          "choropleth": [
           {
            "colorbar": {
             "outlinewidth": 0,
             "ticks": ""
            },
            "type": "choropleth"
           }
          ],
          "contour": [
           {
            "colorbar": {
             "outlinewidth": 0,
             "ticks": ""
            },
            "colorscale": [
             [
              0,
              "#0d0887"
             ],
             [
              0.1111111111111111,
              "#46039f"
             ],
             [
              0.2222222222222222,
              "#7201a8"
             ],
             [
              0.3333333333333333,
              "#9c179e"
             ],
             [
              0.4444444444444444,
              "#bd3786"
             ],
             [
              0.5555555555555556,
              "#d8576b"
             ],
             [
              0.6666666666666666,
              "#ed7953"
             ],
             [
              0.7777777777777778,
              "#fb9f3a"
             ],
             [
              0.8888888888888888,
              "#fdca26"
             ],
             [
              1,
              "#f0f921"
             ]
            ],
            "type": "contour"
           }
          ],
          "contourcarpet": [
           {
            "colorbar": {
             "outlinewidth": 0,
             "ticks": ""
            },
            "type": "contourcarpet"
           }
          ],
          "heatmap": [
           {
            "colorbar": {
             "outlinewidth": 0,
             "ticks": ""
            },
            "colorscale": [
             [
              0,
              "#0d0887"
             ],
             [
              0.1111111111111111,
              "#46039f"
             ],
             [
              0.2222222222222222,
              "#7201a8"
             ],
             [
              0.3333333333333333,
              "#9c179e"
             ],
             [
              0.4444444444444444,
              "#bd3786"
             ],
             [
              0.5555555555555556,
              "#d8576b"
             ],
             [
              0.6666666666666666,
              "#ed7953"
             ],
             [
              0.7777777777777778,
              "#fb9f3a"
             ],
             [
              0.8888888888888888,
              "#fdca26"
             ],
             [
              1,
              "#f0f921"
             ]
            ],
            "type": "heatmap"
           }
          ],
          "heatmapgl": [
           {
            "colorbar": {
             "outlinewidth": 0,
             "ticks": ""
            },
            "colorscale": [
             [
              0,
              "#0d0887"
             ],
             [
              0.1111111111111111,
              "#46039f"
             ],
             [
              0.2222222222222222,
              "#7201a8"
             ],
             [
              0.3333333333333333,
              "#9c179e"
             ],
             [
              0.4444444444444444,
              "#bd3786"
             ],
             [
              0.5555555555555556,
              "#d8576b"
             ],
             [
              0.6666666666666666,
              "#ed7953"
             ],
             [
              0.7777777777777778,
              "#fb9f3a"
             ],
             [
              0.8888888888888888,
              "#fdca26"
             ],
             [
              1,
              "#f0f921"
             ]
            ],
            "type": "heatmapgl"
           }
          ],
          "histogram": [
           {
            "marker": {
             "pattern": {
              "fillmode": "overlay",
              "size": 10,
              "solidity": 0.2
             }
            },
            "type": "histogram"
           }
          ],
          "histogram2d": [
           {
            "colorbar": {
             "outlinewidth": 0,
             "ticks": ""
            },
            "colorscale": [
             [
              0,
              "#0d0887"
             ],
             [
              0.1111111111111111,
              "#46039f"
             ],
             [
              0.2222222222222222,
              "#7201a8"
             ],
             [
              0.3333333333333333,
              "#9c179e"
             ],
             [
              0.4444444444444444,
              "#bd3786"
             ],
             [
              0.5555555555555556,
              "#d8576b"
             ],
             [
              0.6666666666666666,
              "#ed7953"
             ],
             [
              0.7777777777777778,
              "#fb9f3a"
             ],
             [
              0.8888888888888888,
              "#fdca26"
             ],
             [
              1,
              "#f0f921"
             ]
            ],
            "type": "histogram2d"
           }
          ],
          "histogram2dcontour": [
           {
            "colorbar": {
             "outlinewidth": 0,
             "ticks": ""
            },
            "colorscale": [
             [
              0,
              "#0d0887"
             ],
             [
              0.1111111111111111,
              "#46039f"
             ],
             [
              0.2222222222222222,
              "#7201a8"
             ],
             [
              0.3333333333333333,
              "#9c179e"
             ],
             [
              0.4444444444444444,
              "#bd3786"
             ],
             [
              0.5555555555555556,
              "#d8576b"
             ],
             [
              0.6666666666666666,
              "#ed7953"
             ],
             [
              0.7777777777777778,
              "#fb9f3a"
             ],
             [
              0.8888888888888888,
              "#fdca26"
             ],
             [
              1,
              "#f0f921"
             ]
            ],
            "type": "histogram2dcontour"
           }
          ],
          "mesh3d": [
           {
            "colorbar": {
             "outlinewidth": 0,
             "ticks": ""
            },
            "type": "mesh3d"
           }
          ],
          "parcoords": [
           {
            "line": {
             "colorbar": {
              "outlinewidth": 0,
              "ticks": ""
             }
            },
            "type": "parcoords"
           }
          ],
          "pie": [
           {
            "automargin": true,
            "type": "pie"
           }
          ],
          "scatter": [
           {
            "fillpattern": {
             "fillmode": "overlay",
             "size": 10,
             "solidity": 0.2
            },
            "type": "scatter"
           }
          ],
          "scatter3d": [
           {
            "line": {
             "colorbar": {
              "outlinewidth": 0,
              "ticks": ""
             }
            },
            "marker": {
             "colorbar": {
              "outlinewidth": 0,
              "ticks": ""
             }
            },
            "type": "scatter3d"
           }
          ],
          "scattercarpet": [
           {
            "marker": {
             "colorbar": {
              "outlinewidth": 0,
              "ticks": ""
             }
            },
            "type": "scattercarpet"
           }
          ],
          "scattergeo": [
           {
            "marker": {
             "colorbar": {
              "outlinewidth": 0,
              "ticks": ""
             }
            },
            "type": "scattergeo"
           }
          ],
          "scattergl": [
           {
            "marker": {
             "colorbar": {
              "outlinewidth": 0,
              "ticks": ""
             }
            },
            "type": "scattergl"
           }
          ],
          "scattermapbox": [
           {
            "marker": {
             "colorbar": {
              "outlinewidth": 0,
              "ticks": ""
             }
            },
            "type": "scattermapbox"
           }
          ],
          "scatterpolar": [
           {
            "marker": {
             "colorbar": {
              "outlinewidth": 0,
              "ticks": ""
             }
            },
            "type": "scatterpolar"
           }
          ],
          "scatterpolargl": [
           {
            "marker": {
             "colorbar": {
              "outlinewidth": 0,
              "ticks": ""
             }
            },
            "type": "scatterpolargl"
           }
          ],
          "scatterternary": [
           {
            "marker": {
             "colorbar": {
              "outlinewidth": 0,
              "ticks": ""
             }
            },
            "type": "scatterternary"
           }
          ],
          "surface": [
           {
            "colorbar": {
             "outlinewidth": 0,
             "ticks": ""
            },
            "colorscale": [
             [
              0,
              "#0d0887"
             ],
             [
              0.1111111111111111,
              "#46039f"
             ],
             [
              0.2222222222222222,
              "#7201a8"
             ],
             [
              0.3333333333333333,
              "#9c179e"
             ],
             [
              0.4444444444444444,
              "#bd3786"
             ],
             [
              0.5555555555555556,
              "#d8576b"
             ],
             [
              0.6666666666666666,
              "#ed7953"
             ],
             [
              0.7777777777777778,
              "#fb9f3a"
             ],
             [
              0.8888888888888888,
              "#fdca26"
             ],
             [
              1,
              "#f0f921"
             ]
            ],
            "type": "surface"
           }
          ],
          "table": [
           {
            "cells": {
             "fill": {
              "color": "#EBF0F8"
             },
             "line": {
              "color": "white"
             }
            },
            "header": {
             "fill": {
              "color": "#C8D4E3"
             },
             "line": {
              "color": "white"
             }
            },
            "type": "table"
           }
          ]
         },
         "layout": {
          "annotationdefaults": {
           "arrowcolor": "#2a3f5f",
           "arrowhead": 0,
           "arrowwidth": 1
          },
          "autotypenumbers": "strict",
          "coloraxis": {
           "colorbar": {
            "outlinewidth": 0,
            "ticks": ""
           }
          },
          "colorscale": {
           "diverging": [
            [
             0,
             "#8e0152"
            ],
            [
             0.1,
             "#c51b7d"
            ],
            [
             0.2,
             "#de77ae"
            ],
            [
             0.3,
             "#f1b6da"
            ],
            [
             0.4,
             "#fde0ef"
            ],
            [
             0.5,
             "#f7f7f7"
            ],
            [
             0.6,
             "#e6f5d0"
            ],
            [
             0.7,
             "#b8e186"
            ],
            [
             0.8,
             "#7fbc41"
            ],
            [
             0.9,
             "#4d9221"
            ],
            [
             1,
             "#276419"
            ]
           ],
           "sequential": [
            [
             0,
             "#0d0887"
            ],
            [
             0.1111111111111111,
             "#46039f"
            ],
            [
             0.2222222222222222,
             "#7201a8"
            ],
            [
             0.3333333333333333,
             "#9c179e"
            ],
            [
             0.4444444444444444,
             "#bd3786"
            ],
            [
             0.5555555555555556,
             "#d8576b"
            ],
            [
             0.6666666666666666,
             "#ed7953"
            ],
            [
             0.7777777777777778,
             "#fb9f3a"
            ],
            [
             0.8888888888888888,
             "#fdca26"
            ],
            [
             1,
             "#f0f921"
            ]
           ],
           "sequentialminus": [
            [
             0,
             "#0d0887"
            ],
            [
             0.1111111111111111,
             "#46039f"
            ],
            [
             0.2222222222222222,
             "#7201a8"
            ],
            [
             0.3333333333333333,
             "#9c179e"
            ],
            [
             0.4444444444444444,
             "#bd3786"
            ],
            [
             0.5555555555555556,
             "#d8576b"
            ],
            [
             0.6666666666666666,
             "#ed7953"
            ],
            [
             0.7777777777777778,
             "#fb9f3a"
            ],
            [
             0.8888888888888888,
             "#fdca26"
            ],
            [
             1,
             "#f0f921"
            ]
           ]
          },
          "colorway": [
           "#636efa",
           "#EF553B",
           "#00cc96",
           "#ab63fa",
           "#FFA15A",
           "#19d3f3",
           "#FF6692",
           "#B6E880",
           "#FF97FF",
           "#FECB52"
          ],
          "font": {
           "color": "#2a3f5f"
          },
          "geo": {
           "bgcolor": "white",
           "lakecolor": "white",
           "landcolor": "#E5ECF6",
           "showlakes": true,
           "showland": true,
           "subunitcolor": "white"
          },
          "hoverlabel": {
           "align": "left"
          },
          "hovermode": "closest",
          "mapbox": {
           "style": "light"
          },
          "paper_bgcolor": "white",
          "plot_bgcolor": "#E5ECF6",
          "polar": {
           "angularaxis": {
            "gridcolor": "white",
            "linecolor": "white",
            "ticks": ""
           },
           "bgcolor": "#E5ECF6",
           "radialaxis": {
            "gridcolor": "white",
            "linecolor": "white",
            "ticks": ""
           }
          },
          "scene": {
           "xaxis": {
            "backgroundcolor": "#E5ECF6",
            "gridcolor": "white",
            "gridwidth": 2,
            "linecolor": "white",
            "showbackground": true,
            "ticks": "",
            "zerolinecolor": "white"
           },
           "yaxis": {
            "backgroundcolor": "#E5ECF6",
            "gridcolor": "white",
            "gridwidth": 2,
            "linecolor": "white",
            "showbackground": true,
            "ticks": "",
            "zerolinecolor": "white"
           },
           "zaxis": {
            "backgroundcolor": "#E5ECF6",
            "gridcolor": "white",
            "gridwidth": 2,
            "linecolor": "white",
            "showbackground": true,
            "ticks": "",
            "zerolinecolor": "white"
           }
          },
          "shapedefaults": {
           "line": {
            "color": "#2a3f5f"
           }
          },
          "ternary": {
           "aaxis": {
            "gridcolor": "white",
            "linecolor": "white",
            "ticks": ""
           },
           "baxis": {
            "gridcolor": "white",
            "linecolor": "white",
            "ticks": ""
           },
           "bgcolor": "#E5ECF6",
           "caxis": {
            "gridcolor": "white",
            "linecolor": "white",
            "ticks": ""
           }
          },
          "title": {
           "x": 0.05
          },
          "xaxis": {
           "automargin": true,
           "gridcolor": "white",
           "linecolor": "white",
           "ticks": "",
           "title": {
            "standoff": 15
           },
           "zerolinecolor": "white",
           "zerolinewidth": 2
          },
          "yaxis": {
           "automargin": true,
           "gridcolor": "white",
           "linecolor": "white",
           "ticks": "",
           "title": {
            "standoff": 15
           },
           "zerolinecolor": "white",
           "zerolinewidth": 2
          }
         }
        },
        "title": {
         "text": "Gini Index by Country"
        }
       }
      },
      "text/html": [
       "<div>                            <div id=\"8ed2c2a4-80b5-4247-914b-71ab81e2a574\" class=\"plotly-graph-div\" style=\"height:525px; width:100%;\"></div>            <script type=\"text/javascript\">                require([\"plotly\"], function(Plotly) {                    window.PLOTLYENV=window.PLOTLYENV || {};                                    if (document.getElementById(\"8ed2c2a4-80b5-4247-914b-71ab81e2a574\")) {                    Plotly.newPlot(                        \"8ed2c2a4-80b5-4247-914b-71ab81e2a574\",                        [{\"coloraxis\":\"coloraxis\",\"customdata\":[[29.399999618530273,2020],[27.600000381469727,2011],[51.29999923706055,2018],[42.0,2021],[27.899999618530273,2021],[34.29999923706055,2018],[29.799999237060547,2020],[31.799999237060547,2022],[24.399999618530273,2020],[26.0,2020],[37.900001525878906,2018],[28.5,2022],[40.900001525878906,2021],[33.0,2011],[53.29999923706055,2015],[52.900001525878906,2021],[40.5,2020],[43.0,2018],[38.599998474121094,2013],[42.400001525878906,2015],[46.599998474121094,2014],[31.700000762939453,2019],[43.0,2021],[37.5,2018],[44.900001525878906,2020],[37.099998474121094,2020],[51.5,2021],[45.29999923706055,2014],[42.099998474121094,2012],[48.900001525878906,2011],[47.20000076293945,2022],[37.20000076293945,2018],[29.5,2020],[31.700000762939453,2020],[26.200000762939453,2020],[27.5,2020],[41.599998474121094,2017],[38.5,2021],[45.5,2022],[31.899999618530273,2019],[38.79999923706055,2022],[30.700000762939453,2020],[54.599998474121094,2016],[35.0,2015],[30.700000762939453,2019],[27.100000381469727,2020],[30.700000762939453,2020],[38.0,2017],[38.79999923706055,2020],[34.20000076293945,2021],[31.700000762939453,2019],[43.5,2016],[33.599998474121094,2020],[48.29999923706055,2014],[29.600000381469727,2018],[34.79999923706055,2018],[41.099998474121094,2012],[48.20000076293945,2019],[29.700000762939453,2020],[26.100000381469727,2017],[34.20000076293945,2021],[37.900001525878906,2022],[40.900001525878906,2019],[29.5,2012],[29.200000762939453,2020],[38.599998474121094,2018],[35.20000076293945,2020],[32.900001525878906,2013],[33.70000076293945,2010],[27.799999237060547,2018],[38.70000076293945,2021],[27.799999237060547,2019],[31.399999618530273,2016],[29.0,2017],[29.0,2020],[38.79999923706055,2018],[35.70000076293945,2020],[31.799999237060547,2011],[44.900001525878906,2017],[35.29999923706055,2016],[36.0,2020],[33.400001525878906,2020],[42.599998474121094,2012],[38.5,2019],[41.20000076293945,2018],[29.299999237060547,2019],[36.0,2018],[31.399999618530273,2020],[35.5,2019],[32.599998474121094,2014],[36.79999923706055,2017],[45.400001525878906,2020],[40.099998474121094,2013],[25.700000762939453,2021],[32.70000076293945,2018],[36.79999923706055,2018],[39.5,2013],[50.5,2019],[30.700000762939453,2017],[59.099998474121094,2015],[32.400001525878906,2012],[32.79999923706055,2010],[26.0,2020],[46.20000076293945,2014],[37.29999923706055,2018],[35.099998474121094,2018],[33.5,2019],[27.700000762939453,2019],[29.600000381469727,2018],[50.900001525878906,2021],[45.099998474121094,2022],[40.20000076293945,2021],[40.70000076293945,2021],[28.799999237060547,2019],[34.70000076293945,2020],[34.599998474121094,2020],[36.0,2020],[43.70000076293945,2016],[38.70000076293945,2013],[40.70000076293945,2017],[38.29999923706055,2018],[35.0,2020],[32.099998474121094,2018],[35.70000076293945,2018],[23.200000762939453,2019],[24.0,2020],[37.099998474121094,2012],[63.0,2014],[44.099998474121094,2016],[34.900001525878906,2020],[37.70000076293945,2019],[51.20000076293945,2016],[34.20000076293945,2014],[28.899999618530273,2020],[33.099998474121094,2018],[34.0,2015],[40.5,2018],[35.099998474121094,2021],[28.700000762939453,2014],[42.5,2018],[33.5,2015],[32.79999923706055,2015],[41.900001525878906,2019],[39.099998474121094,2010],[42.70000076293945,2019],[25.600000381469727,2020],[26.0,2018],[32.599998474121094,2020],[39.79999923706055,2021],[40.79999923706055,2021],[32.29999923706055,2019],[36.79999923706055,2020],[33.70000076293945,2016],[36.70000076293945,2014],[55.900001525878906,2015],[50.29999923706055,2019]],\"geo\":\"geo\",\"hovertemplate\":\"\\u003cb\\u003e%{hovertext}\\u003c\\u002fb\\u003e\\u003cbr\\u003eGini Index: %{customdata[0]:.2f}\\u003cbr\\u003eYear: %{customdata[1]}\",\"hovertext\":[\"Albania\",\"Algeria\",\"Angola\",\"Argentina\",\"Armenia\",\"Australia\",\"Austria\",\"Bangladesh\",\"Belarus\",\"Belgium\",\"Benin\",\"Bhutan\",\"Bolivia\",\"Bosnia and Herzegovina\",\"Botswana\",\"Brazil\",\"Bulgaria\",\"Burkina Faso\",\"Burundi\",\"Cabo Verde\",\"Cameroon\",\"Canada\",\"Central African Republic\",\"Chad\",\"Chile\",\"China\",\"Colombia\",\"Comoros\",\"Congo, Dem. Rep.\",\"Congo, Rep.\",\"Costa Rica\",\"Cote d'Ivoire\",\"Croatia\",\"Cyprus\",\"Czechia\",\"Denmark\",\"Djibouti\",\"Dominican Republic\",\"Ecuador\",\"Egypt, Arab Rep.\",\"El Salvador\",\"Estonia\",\"Eswatini\",\"Ethiopia\",\"Fiji\",\"Finland\",\"France\",\"Gabon\",\"Gambia, The\",\"Georgia\",\"Germany\",\"Ghana\",\"Greece\",\"Guatemala\",\"Guinea\",\"Guinea-Bissau\",\"Haiti\",\"Honduras\",\"Hungary\",\"Iceland\",\"India\",\"Indonesia\",\"Iran, Islamic Rep.\",\"Iraq\",\"Ireland\",\"Israel\",\"Italy\",\"Japan\",\"Jordan\",\"Kazakhstan\",\"Kenya\",\"Kiribati\",\"Korea, Rep.\",\"Kosovo\",\"Kyrgyz Republic\",\"Lao PDR\",\"Latvia\",\"Lebanon\",\"Lesotho\",\"Liberia\",\"Lithuania\",\"Luxembourg\",\"Madagascar\",\"Malawi\",\"Malaysia\",\"Maldives\",\"Mali\",\"Malta\",\"Marshall Islands\",\"Mauritania\",\"Mauritius\",\"Mexico\",\"Micronesia, Fed. Sts.\",\"Moldova\",\"Mongolia\",\"Montenegro\",\"Morocco\",\"Mozambique\",\"Myanmar\",\"Namibia\",\"Nauru\",\"Nepal\",\"Netherlands\",\"Nicaragua\",\"Niger\",\"Nigeria\",\"North Macedonia\",\"Norway\",\"Pakistan\",\"Panama\",\"Paraguay\",\"Peru\",\"Philippines\",\"Poland\",\"Portugal\",\"Romania\",\"Russian Federation\",\"Rwanda\",\"Samoa\",\"Sao Tome and Principe\",\"Senegal\",\"Serbia\",\"Seychelles\",\"Sierra Leone\",\"Slovak Republic\",\"Slovenia\",\"Solomon Islands\",\"South Africa\",\"South Sudan\",\"Spain\",\"Sri Lanka\",\"St. Lucia\",\"Sudan\",\"Sweden\",\"Switzerland\",\"Tajikistan\",\"Tanzania\",\"Thailand\",\"Timor-Leste\",\"Togo\",\"Tonga\",\"Tunisia\",\"Turkiye\",\"Tuvalu\",\"Uganda\",\"Ukraine\",\"United Arab Emirates\",\"United Kingdom\",\"United States\",\"Uruguay\",\"Vanuatu\",\"Viet Nam\",\"West Bank and Gaza\",\"Yemen, Rep.\",\"Zambia\",\"Zimbabwe\"],\"locations\":[\"ALB\",\"DZA\",\"AGO\",\"ARG\",\"ARM\",\"AUS\",\"AUT\",\"BGD\",\"BLR\",\"BEL\",\"BEN\",\"BTN\",\"BOL\",\"BIH\",\"BWA\",\"BRA\",\"BGR\",\"BFA\",\"BDI\",\"CPV\",\"CMR\",\"CAN\",\"CAF\",\"TCD\",\"CHL\",\"CHN\",\"COL\",\"COM\",\"COD\",\"COG\",\"CRI\",\"CIV\",\"HRV\",\"CYP\",\"CZE\",\"DNK\",\"DJI\",\"DOM\",\"ECU\",\"EGY\",\"SLV\",\"EST\",\"SWZ\",\"ETH\",\"FJI\",\"FIN\",\"FRA\",\"GAB\",\"GMB\",\"GEO\",\"DEU\",\"GHA\",\"GRC\",\"GTM\",\"GIN\",\"GNB\",\"HTI\",\"HND\",\"HUN\",\"ISL\",\"IND\",\"IDN\",\"IRN\",\"IRQ\",\"IRL\",\"ISR\",\"ITA\",\"JPN\",\"JOR\",\"KAZ\",\"KEN\",\"KIR\",\"KOR\",\"XKX\",\"KGZ\",\"LAO\",\"LVA\",\"LBN\",\"LSO\",\"LBR\",\"LTU\",\"LUX\",\"MDG\",\"MWI\",\"MYS\",\"MDV\",\"MLI\",\"MLT\",\"MHL\",\"MRT\",\"MUS\",\"MEX\",\"FSM\",\"MDA\",\"MNG\",\"MNE\",\"MAR\",\"MOZ\",\"MMR\",\"NAM\",\"NRU\",\"NPL\",\"NLD\",\"NIC\",\"NER\",\"NGA\",\"MKD\",\"NOR\",\"PAK\",\"PAN\",\"PRY\",\"PER\",\"PHL\",\"POL\",\"PRT\",\"ROU\",\"RUS\",\"RWA\",\"WSM\",\"STP\",\"SEN\",\"SRB\",\"SYC\",\"SLE\",\"SVK\",\"SVN\",\"SLB\",\"ZAF\",\"SSD\",\"ESP\",\"LKA\",\"LCA\",\"SDN\",\"SWE\",\"CHE\",\"TJK\",\"TZA\",\"THA\",\"TLS\",\"TGO\",\"TON\",\"TUN\",\"TUR\",\"TUV\",\"UGA\",\"UKR\",\"ARE\",\"GBR\",\"USA\",\"URY\",\"VUT\",\"VNM\",\"PSE\",\"YEM\",\"ZMB\",\"ZWE\"],\"name\":\"\",\"z\":[29.399999618530273,27.600000381469727,51.29999923706055,42.0,27.899999618530273,34.29999923706055,29.799999237060547,31.799999237060547,24.399999618530273,26.0,37.900001525878906,28.5,40.900001525878906,33.0,53.29999923706055,52.900001525878906,40.5,43.0,38.599998474121094,42.400001525878906,46.599998474121094,31.700000762939453,43.0,37.5,44.900001525878906,37.099998474121094,51.5,45.29999923706055,42.099998474121094,48.900001525878906,47.20000076293945,37.20000076293945,29.5,31.700000762939453,26.200000762939453,27.5,41.599998474121094,38.5,45.5,31.899999618530273,38.79999923706055,30.700000762939453,54.599998474121094,35.0,30.700000762939453,27.100000381469727,30.700000762939453,38.0,38.79999923706055,34.20000076293945,31.700000762939453,43.5,33.599998474121094,48.29999923706055,29.600000381469727,34.79999923706055,41.099998474121094,48.20000076293945,29.700000762939453,26.100000381469727,34.20000076293945,37.900001525878906,40.900001525878906,29.5,29.200000762939453,38.599998474121094,35.20000076293945,32.900001525878906,33.70000076293945,27.799999237060547,38.70000076293945,27.799999237060547,31.399999618530273,29.0,29.0,38.79999923706055,35.70000076293945,31.799999237060547,44.900001525878906,35.29999923706055,36.0,33.400001525878906,42.599998474121094,38.5,41.20000076293945,29.299999237060547,36.0,31.399999618530273,35.5,32.599998474121094,36.79999923706055,45.400001525878906,40.099998474121094,25.700000762939453,32.70000076293945,36.79999923706055,39.5,50.5,30.700000762939453,59.099998474121094,32.400001525878906,32.79999923706055,26.0,46.20000076293945,37.29999923706055,35.099998474121094,33.5,27.700000762939453,29.600000381469727,50.900001525878906,45.099998474121094,40.20000076293945,40.70000076293945,28.799999237060547,34.70000076293945,34.599998474121094,36.0,43.70000076293945,38.70000076293945,40.70000076293945,38.29999923706055,35.0,32.099998474121094,35.70000076293945,23.200000762939453,24.0,37.099998474121094,63.0,44.099998474121094,34.900001525878906,37.70000076293945,51.20000076293945,34.20000076293945,28.899999618530273,33.099998474121094,34.0,40.5,35.099998474121094,28.700000762939453,42.5,33.5,32.79999923706055,41.900001525878906,39.099998474121094,42.70000076293945,25.600000381469727,26.0,32.599998474121094,39.79999923706055,40.79999923706055,32.29999923706055,36.79999923706055,33.70000076293945,36.70000076293945,55.900001525878906,50.29999923706055],\"type\":\"choropleth\"}],                        {\"template\":{\"data\":{\"histogram2dcontour\":[{\"type\":\"histogram2dcontour\",\"colorbar\":{\"outlinewidth\":0,\"ticks\":\"\"},\"colorscale\":[[0.0,\"#0d0887\"],[0.1111111111111111,\"#46039f\"],[0.2222222222222222,\"#7201a8\"],[0.3333333333333333,\"#9c179e\"],[0.4444444444444444,\"#bd3786\"],[0.5555555555555556,\"#d8576b\"],[0.6666666666666666,\"#ed7953\"],[0.7777777777777778,\"#fb9f3a\"],[0.8888888888888888,\"#fdca26\"],[1.0,\"#f0f921\"]]}],\"choropleth\":[{\"type\":\"choropleth\",\"colorbar\":{\"outlinewidth\":0,\"ticks\":\"\"}}],\"histogram2d\":[{\"type\":\"histogram2d\",\"colorbar\":{\"outlinewidth\":0,\"ticks\":\"\"},\"colorscale\":[[0.0,\"#0d0887\"],[0.1111111111111111,\"#46039f\"],[0.2222222222222222,\"#7201a8\"],[0.3333333333333333,\"#9c179e\"],[0.4444444444444444,\"#bd3786\"],[0.5555555555555556,\"#d8576b\"],[0.6666666666666666,\"#ed7953\"],[0.7777777777777778,\"#fb9f3a\"],[0.8888888888888888,\"#fdca26\"],[1.0,\"#f0f921\"]]}],\"heatmap\":[{\"type\":\"heatmap\",\"colorbar\":{\"outlinewidth\":0,\"ticks\":\"\"},\"colorscale\":[[0.0,\"#0d0887\"],[0.1111111111111111,\"#46039f\"],[0.2222222222222222,\"#7201a8\"],[0.3333333333333333,\"#9c179e\"],[0.4444444444444444,\"#bd3786\"],[0.5555555555555556,\"#d8576b\"],[0.6666666666666666,\"#ed7953\"],[0.7777777777777778,\"#fb9f3a\"],[0.8888888888888888,\"#fdca26\"],[1.0,\"#f0f921\"]]}],\"heatmapgl\":[{\"type\":\"heatmapgl\",\"colorbar\":{\"outlinewidth\":0,\"ticks\":\"\"},\"colorscale\":[[0.0,\"#0d0887\"],[0.1111111111111111,\"#46039f\"],[0.2222222222222222,\"#7201a8\"],[0.3333333333333333,\"#9c179e\"],[0.4444444444444444,\"#bd3786\"],[0.5555555555555556,\"#d8576b\"],[0.6666666666666666,\"#ed7953\"],[0.7777777777777778,\"#fb9f3a\"],[0.8888888888888888,\"#fdca26\"],[1.0,\"#f0f921\"]]}],\"contourcarpet\":[{\"type\":\"contourcarpet\",\"colorbar\":{\"outlinewidth\":0,\"ticks\":\"\"}}],\"contour\":[{\"type\":\"contour\",\"colorbar\":{\"outlinewidth\":0,\"ticks\":\"\"},\"colorscale\":[[0.0,\"#0d0887\"],[0.1111111111111111,\"#46039f\"],[0.2222222222222222,\"#7201a8\"],[0.3333333333333333,\"#9c179e\"],[0.4444444444444444,\"#bd3786\"],[0.5555555555555556,\"#d8576b\"],[0.6666666666666666,\"#ed7953\"],[0.7777777777777778,\"#fb9f3a\"],[0.8888888888888888,\"#fdca26\"],[1.0,\"#f0f921\"]]}],\"surface\":[{\"type\":\"surface\",\"colorbar\":{\"outlinewidth\":0,\"ticks\":\"\"},\"colorscale\":[[0.0,\"#0d0887\"],[0.1111111111111111,\"#46039f\"],[0.2222222222222222,\"#7201a8\"],[0.3333333333333333,\"#9c179e\"],[0.4444444444444444,\"#bd3786\"],[0.5555555555555556,\"#d8576b\"],[0.6666666666666666,\"#ed7953\"],[0.7777777777777778,\"#fb9f3a\"],[0.8888888888888888,\"#fdca26\"],[1.0,\"#f0f921\"]]}],\"mesh3d\":[{\"type\":\"mesh3d\",\"colorbar\":{\"outlinewidth\":0,\"ticks\":\"\"}}],\"scatter\":[{\"fillpattern\":{\"fillmode\":\"overlay\",\"size\":10,\"solidity\":0.2},\"type\":\"scatter\"}],\"parcoords\":[{\"type\":\"parcoords\",\"line\":{\"colorbar\":{\"outlinewidth\":0,\"ticks\":\"\"}}}],\"scatterpolargl\":[{\"type\":\"scatterpolargl\",\"marker\":{\"colorbar\":{\"outlinewidth\":0,\"ticks\":\"\"}}}],\"bar\":[{\"error_x\":{\"color\":\"#2a3f5f\"},\"error_y\":{\"color\":\"#2a3f5f\"},\"marker\":{\"line\":{\"color\":\"#E5ECF6\",\"width\":0.5},\"pattern\":{\"fillmode\":\"overlay\",\"size\":10,\"solidity\":0.2}},\"type\":\"bar\"}],\"scattergeo\":[{\"type\":\"scattergeo\",\"marker\":{\"colorbar\":{\"outlinewidth\":0,\"ticks\":\"\"}}}],\"scatterpolar\":[{\"type\":\"scatterpolar\",\"marker\":{\"colorbar\":{\"outlinewidth\":0,\"ticks\":\"\"}}}],\"histogram\":[{\"marker\":{\"pattern\":{\"fillmode\":\"overlay\",\"size\":10,\"solidity\":0.2}},\"type\":\"histogram\"}],\"scattergl\":[{\"type\":\"scattergl\",\"marker\":{\"colorbar\":{\"outlinewidth\":0,\"ticks\":\"\"}}}],\"scatter3d\":[{\"type\":\"scatter3d\",\"line\":{\"colorbar\":{\"outlinewidth\":0,\"ticks\":\"\"}},\"marker\":{\"colorbar\":{\"outlinewidth\":0,\"ticks\":\"\"}}}],\"scattermapbox\":[{\"type\":\"scattermapbox\",\"marker\":{\"colorbar\":{\"outlinewidth\":0,\"ticks\":\"\"}}}],\"scatterternary\":[{\"type\":\"scatterternary\",\"marker\":{\"colorbar\":{\"outlinewidth\":0,\"ticks\":\"\"}}}],\"scattercarpet\":[{\"type\":\"scattercarpet\",\"marker\":{\"colorbar\":{\"outlinewidth\":0,\"ticks\":\"\"}}}],\"carpet\":[{\"aaxis\":{\"endlinecolor\":\"#2a3f5f\",\"gridcolor\":\"white\",\"linecolor\":\"white\",\"minorgridcolor\":\"white\",\"startlinecolor\":\"#2a3f5f\"},\"baxis\":{\"endlinecolor\":\"#2a3f5f\",\"gridcolor\":\"white\",\"linecolor\":\"white\",\"minorgridcolor\":\"white\",\"startlinecolor\":\"#2a3f5f\"},\"type\":\"carpet\"}],\"table\":[{\"cells\":{\"fill\":{\"color\":\"#EBF0F8\"},\"line\":{\"color\":\"white\"}},\"header\":{\"fill\":{\"color\":\"#C8D4E3\"},\"line\":{\"color\":\"white\"}},\"type\":\"table\"}],\"barpolar\":[{\"marker\":{\"line\":{\"color\":\"#E5ECF6\",\"width\":0.5},\"pattern\":{\"fillmode\":\"overlay\",\"size\":10,\"solidity\":0.2}},\"type\":\"barpolar\"}],\"pie\":[{\"automargin\":true,\"type\":\"pie\"}]},\"layout\":{\"autotypenumbers\":\"strict\",\"colorway\":[\"#636efa\",\"#EF553B\",\"#00cc96\",\"#ab63fa\",\"#FFA15A\",\"#19d3f3\",\"#FF6692\",\"#B6E880\",\"#FF97FF\",\"#FECB52\"],\"font\":{\"color\":\"#2a3f5f\"},\"hovermode\":\"closest\",\"hoverlabel\":{\"align\":\"left\"},\"paper_bgcolor\":\"white\",\"plot_bgcolor\":\"#E5ECF6\",\"polar\":{\"bgcolor\":\"#E5ECF6\",\"angularaxis\":{\"gridcolor\":\"white\",\"linecolor\":\"white\",\"ticks\":\"\"},\"radialaxis\":{\"gridcolor\":\"white\",\"linecolor\":\"white\",\"ticks\":\"\"}},\"ternary\":{\"bgcolor\":\"#E5ECF6\",\"aaxis\":{\"gridcolor\":\"white\",\"linecolor\":\"white\",\"ticks\":\"\"},\"baxis\":{\"gridcolor\":\"white\",\"linecolor\":\"white\",\"ticks\":\"\"},\"caxis\":{\"gridcolor\":\"white\",\"linecolor\":\"white\",\"ticks\":\"\"}},\"coloraxis\":{\"colorbar\":{\"outlinewidth\":0,\"ticks\":\"\"}},\"colorscale\":{\"sequential\":[[0.0,\"#0d0887\"],[0.1111111111111111,\"#46039f\"],[0.2222222222222222,\"#7201a8\"],[0.3333333333333333,\"#9c179e\"],[0.4444444444444444,\"#bd3786\"],[0.5555555555555556,\"#d8576b\"],[0.6666666666666666,\"#ed7953\"],[0.7777777777777778,\"#fb9f3a\"],[0.8888888888888888,\"#fdca26\"],[1.0,\"#f0f921\"]],\"sequentialminus\":[[0.0,\"#0d0887\"],[0.1111111111111111,\"#46039f\"],[0.2222222222222222,\"#7201a8\"],[0.3333333333333333,\"#9c179e\"],[0.4444444444444444,\"#bd3786\"],[0.5555555555555556,\"#d8576b\"],[0.6666666666666666,\"#ed7953\"],[0.7777777777777778,\"#fb9f3a\"],[0.8888888888888888,\"#fdca26\"],[1.0,\"#f0f921\"]],\"diverging\":[[0,\"#8e0152\"],[0.1,\"#c51b7d\"],[0.2,\"#de77ae\"],[0.3,\"#f1b6da\"],[0.4,\"#fde0ef\"],[0.5,\"#f7f7f7\"],[0.6,\"#e6f5d0\"],[0.7,\"#b8e186\"],[0.8,\"#7fbc41\"],[0.9,\"#4d9221\"],[1,\"#276419\"]]},\"xaxis\":{\"gridcolor\":\"white\",\"linecolor\":\"white\",\"ticks\":\"\",\"title\":{\"standoff\":15},\"zerolinecolor\":\"white\",\"automargin\":true,\"zerolinewidth\":2},\"yaxis\":{\"gridcolor\":\"white\",\"linecolor\":\"white\",\"ticks\":\"\",\"title\":{\"standoff\":15},\"zerolinecolor\":\"white\",\"automargin\":true,\"zerolinewidth\":2},\"scene\":{\"xaxis\":{\"backgroundcolor\":\"#E5ECF6\",\"gridcolor\":\"white\",\"linecolor\":\"white\",\"showbackground\":true,\"ticks\":\"\",\"zerolinecolor\":\"white\",\"gridwidth\":2},\"yaxis\":{\"backgroundcolor\":\"#E5ECF6\",\"gridcolor\":\"white\",\"linecolor\":\"white\",\"showbackground\":true,\"ticks\":\"\",\"zerolinecolor\":\"white\",\"gridwidth\":2},\"zaxis\":{\"backgroundcolor\":\"#E5ECF6\",\"gridcolor\":\"white\",\"linecolor\":\"white\",\"showbackground\":true,\"ticks\":\"\",\"zerolinecolor\":\"white\",\"gridwidth\":2}},\"shapedefaults\":{\"line\":{\"color\":\"#2a3f5f\"}},\"annotationdefaults\":{\"arrowcolor\":\"#2a3f5f\",\"arrowhead\":0,\"arrowwidth\":1},\"geo\":{\"bgcolor\":\"white\",\"landcolor\":\"#E5ECF6\",\"subunitcolor\":\"white\",\"showland\":true,\"showlakes\":true,\"lakecolor\":\"white\"},\"title\":{\"x\":0.05},\"mapbox\":{\"style\":\"light\"}}},\"geo\":{\"domain\":{\"x\":[0.0,1.0],\"y\":[0.0,1.0]},\"projection\":{\"type\":\"natural earth\"},\"center\":{}},\"coloraxis\":{\"colorbar\":{\"title\":{\"text\":\"Gini Index\"}},\"colorscale\":[[0.0,\"#fcffa4\"],[0.1111111111111111,\"#f7d13d\"],[0.2222222222222222,\"#fb9b06\"],[0.3333333333333333,\"#ed6925\"],[0.4444444444444444,\"#cf4446\"],[0.5555555555555556,\"#a52c60\"],[0.6666666666666666,\"#781c6d\"],[0.7777777777777778,\"#4a0c6b\"],[0.8888888888888888,\"#1b0c41\"],[1.0,\"#000004\"]]},\"legend\":{\"tracegroupgap\":0},\"title\":{\"text\":\"Gini Index by Country\"}},                        {\"responsive\": true}                    ).then(function(){\n",
       "                            \n",
       "var gd = document.getElementById('8ed2c2a4-80b5-4247-914b-71ab81e2a574');\n",
       "var x = new MutationObserver(function (mutations, observer) {{\n",
       "        var display = window.getComputedStyle(gd).display;\n",
       "        if (!display || display === 'none') {{\n",
       "            console.log([gd, 'removed!']);\n",
       "            Plotly.purge(gd);\n",
       "            observer.disconnect();\n",
       "        }}\n",
       "}});\n",
       "\n",
       "// Listen for the removal of the full notebook cells\n",
       "var notebookContainer = gd.closest('#notebook-container');\n",
       "if (notebookContainer) {{\n",
       "    x.observe(notebookContainer, {childList: true});\n",
       "}}\n",
       "\n",
       "// Listen for the clearing of the current output cell\n",
       "var outputEl = gd.closest('.output');\n",
       "if (outputEl) {{\n",
       "    x.observe(outputEl, {childList: true});\n",
       "}}\n",
       "\n",
       "                        })                };                });            </script>        </div>"
      ]
     },
     "metadata": {},
     "output_type": "display_data"
    }
   ],
   "source": [
    "import plotly.express as px\n",
    "\n",
    "# Create basic choropleth map\n",
    "fig = px.choropleth(\n",
    "    latest_df,\n",
    "    locations=\"Country Code\",\n",
    "    color=\"Gini Index\",\n",
    "    color_continuous_scale=\"inferno_r\",\n",
    "    hover_name=\"Country Name\",\n",
    "    hover_data=[\"Gini Index\", \"Year\"],\n",
    "    projection=\"natural earth\",\n",
    "    title=\"Gini Index by Country\",\n",
    ")\n",
    "\n",
    "fig.update_traces(\n",
    "    hovertemplate=\"<b>%{hovertext}</b><br>Gini Index: %{customdata[0]:.2f}<br>Year: %{customdata[1]}\"\n",
    ")\n",
    "fig.show()"
   ]
  },
  {
   "cell_type": "code",
   "execution_count": null,
   "metadata": {},
   "outputs": [],
   "source": []
  }
 ],
 "metadata": {
  "kernelspec": {
   "display_name": "Python 3",
   "language": "python",
   "name": "python3"
  },
  "language_info": {
   "codemirror_mode": {
    "name": "ipython",
    "version": 3
   },
   "file_extension": ".py",
   "mimetype": "text/x-python",
   "name": "python",
   "nbconvert_exporter": "python",
   "pygments_lexer": "ipython3",
   "version": "3.11.5"
  }
 },
 "nbformat": 4,
 "nbformat_minor": 2
}
